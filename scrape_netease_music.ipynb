{
 "cells": [
  {
   "cell_type": "markdown",
   "metadata": {},
   "source": [
    "# 使用说明\n",
    "\n",
    "使用前，请先登录网易云账号，前往需要提取的歌单页面，执行以下步骤\n",
    "\n",
    "1. 在网页上右键，点击 **审查元素/Inspect Element**\n",
    "2. 找到 `<tbody>` 标签（应只有一个），右键**复制元素**\n",
    "3. 在本 Notebook 所在地址 **新建一个名为 [歌单文件名] 的 txt 文件**，将内容复制进去\n",
    "\n",
    "之后，逐格运行以下代码，即可将歌单提取为 pandas 数据帧并输出为 csv 文件进行存档"
   ]
  },
  {
   "cell_type": "code",
   "execution_count": null,
   "metadata": {},
   "outputs": [],
   "source": [
    "#需要用到bs4\n",
    "from bs4 import BeautifulSoup"
   ]
  },
  {
   "cell_type": "code",
   "execution_count": null,
   "metadata": {},
   "outputs": [],
   "source": [
    "#导入歌单文件\n",
    "f = open('[歌单文件名].txt',  'rb')\n",
    "s = f.readlines()[0]\n",
    "parsed_html = BeautifulSoup(s)"
   ]
  },
  {
   "cell_type": "code",
   "execution_count": null,
   "metadata": {},
   "outputs": [],
   "source": [
    "# 去除 ‘soil’ 污染\n",
    "for div in parsed_html.find_all(\"div\", {'class':'soil'}): \n",
    "    div.decompose()"
   ]
  },
  {
   "cell_type": "code",
   "execution_count": null,
   "metadata": {},
   "outputs": [],
   "source": [
    "# 分离 tr 元素中的歌曲信息\n",
    "trows = parsed_html.find_all('tr')"
   ]
  },
  {
   "cell_type": "code",
   "execution_count": null,
   "metadata": {},
   "outputs": [],
   "source": [
    "# 质检，返回值应等于歌单长度\n",
    "len(trows)"
   ]
  },
  {
   "cell_type": "code",
   "execution_count": null,
   "metadata": {},
   "outputs": [],
   "source": [
    "# 整理歌曲信息\n",
    "res = []\n",
    "for r in trows:\n",
    "    title = r.find('b').text\n",
    "    duration = r.find(\"span\", {'class':'u-dur candel'}).text\n",
    "    artist = r.find(lambda tag: 'data-res-author' in tag.attrs)['data-res-author']\n",
    "    album = r.find(lambda tag: True if \"href\" in tag.attrs and 'album' in tag[\"href\"] else False).text\n",
    "    res.append((title, duration, artist, album))"
   ]
  },
  {
   "cell_type": "code",
   "execution_count": null,
   "metadata": {},
   "outputs": [],
   "source": [
    "# 转化为 pandas 数据帧\n",
    "import pandas as pd\n",
    "df = pd.DataFrame(res, columns =['标题', '时长', '歌手','专辑']) \n",
    "df.head()"
   ]
  },
  {
   "cell_type": "code",
   "execution_count": null,
   "metadata": {},
   "outputs": [],
   "source": [
    "# 可选步骤：输出为 csv\n",
    "# 如果你的歌单里有 GBK 字符，若用 Excel 直接打开可能出现乱码，记得用 Data > From Text/CSV 规定 UTF-8 格式\n",
    "df.to_csv('[歌单文件名]_f.txt')"
   ]
  }
 ],
 "metadata": {
  "kernelspec": {
   "display_name": "Python 3",
   "language": "python",
   "name": "python3"
  },
  "language_info": {
   "codemirror_mode": {
    "name": "ipython",
    "version": 3
   },
   "file_extension": ".py",
   "mimetype": "text/x-python",
   "name": "python",
   "nbconvert_exporter": "python",
   "pygments_lexer": "ipython3",
   "version": "3.9.0"
  }
 },
 "nbformat": 4,
 "nbformat_minor": 4
}
